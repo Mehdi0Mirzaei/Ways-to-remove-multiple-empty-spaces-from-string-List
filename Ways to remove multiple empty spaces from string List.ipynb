{
 "cells": [
  {
   "cell_type": "code",
   "execution_count": 2,
   "id": "881f1205",
   "metadata": {},
   "outputs": [
    {
     "name": "stdout",
     "output_type": "stream",
     "text": [
      "The original list is : ['Mehdi', ' ', ' ', 'is', '         ', 'best']\n",
      "List after filtering non-empty strings : ['Mehdi', 'is', 'best']\n"
     ]
    }
   ],
   "source": [
    "# initializing list\n",
    "test_list = ['Mehdi', ' ', ' ', 'is', '         ', 'best']\n",
    " \n",
    "# printing original list\n",
    "print(\"The original list is : \" + str(test_list))\n",
    " \n",
    "# Remove multiple empty spaces from string List\n",
    "# Using loop + strip()\n",
    "res = []\n",
    "for ele in test_list:\n",
    "    if ele.strip():\n",
    "        res.append(ele)\n",
    "     # printing result \n",
    "print(\"List after filtering non-empty strings : \" + str(res)) \n"
   ]
  },
  {
   "cell_type": "code",
   "execution_count": 3,
   "id": "945f7d46",
   "metadata": {},
   "outputs": [
    {
     "name": "stdout",
     "output_type": "stream",
     "text": [
      "The original list is : ['Mehdi', ' ', ' ', 'is', '         ', 'best']\n",
      "List after filtering non-empty strings : ['Mehdi', 'is', 'best']\n"
     ]
    }
   ],
   "source": [
    "# initializing list\n",
    "test_list = ['Mehdi', ' ', ' ', 'is', '         ', 'best']\n",
    " \n",
    "# printing original list\n",
    "print(\"The original list is : \" + str(test_list))\n",
    " \n",
    "# Remove multiple empty spaces from string List\n",
    "# Using list comprehension + strip()\n",
    "res = [ele for ele in test_list if ele.strip()]\n",
    "     \n",
    "# printing result \n",
    "print(\"List after filtering non-empty strings : \" + str(res)) "
   ]
  },
  {
   "cell_type": "code",
   "execution_count": 4,
   "id": "f6b3e346",
   "metadata": {},
   "outputs": [
    {
     "name": "stdout",
     "output_type": "stream",
     "text": [
      "The original list is : ['Mehdi', ' ', ' ', 'is', '         ', 'best']\n",
      "List after filtering non-empty strings : ['Mehdi', 'is', 'best']\n"
     ]
    }
   ],
   "source": [
    "# initializing list\n",
    "test_list = ['Mehdi', ' ', ' ', 'is', '         ', 'best']\n",
    " \n",
    "# printing original list\n",
    "print(\"The original list is : \" + str(test_list))\n",
    " \n",
    "# Remove multiple empty spaces from string List\n",
    "# Using find()\n",
    "res = []\n",
    "for ele in test_list:\n",
    "    if ele.find(' ')==-1:\n",
    "        res.append(ele)\n",
    "     # printing result\n",
    "print(\"List after filtering non-empty strings : \" + str(res))"
   ]
  },
  {
   "cell_type": "code",
   "execution_count": 5,
   "id": "6ed648cb",
   "metadata": {},
   "outputs": [
    {
     "name": "stdout",
     "output_type": "stream",
     "text": [
      "The original list is : ['Mehdi', ' ', ' ', 'is', '         ', 'best']\n",
      "List after filtering non-empty strings : ['Mehdi', 'is', 'best']\n"
     ]
    }
   ],
   "source": [
    "test_list = ['Mehdi', ' ', ' ', 'is', '         ', 'best']\n",
    " \n",
    "# printing original list\n",
    "print(\"The original list is : \" + str(test_list))\n",
    " \n",
    "res = list(filter(lambda x: x[0].lower() != x[0].upper(), test_list))\n",
    " \n",
    "# printing result\n",
    "print(\"List after filtering non-empty strings : \" + str(res))"
   ]
  },
  {
   "cell_type": "code",
   "execution_count": 6,
   "id": "067dad3d",
   "metadata": {},
   "outputs": [
    {
     "name": "stdout",
     "output_type": "stream",
     "text": [
      "The original list is : ['Mehdi', ' ', ' ', 'is', ' ', 'best']\n",
      "List after filtering non-empty strings : ['Mehdi', 'is', 'best']\n"
     ]
    }
   ],
   "source": [
    "#Initializing list\n",
    "test_list = ['Mehdi', ' ', ' ', 'is', ' ', 'best']\n",
    " \n",
    "#Printing original list\n",
    "print(\"The original list is : \" + str(test_list))\n",
    " \n",
    "#Remove multiple empty spaces from string List\n",
    "res = [ele for ele in test_list if not ele.isspace()]\n",
    " \n",
    "#Printing result\n",
    "print(\"List after filtering non-empty strings : \" + str(res))"
   ]
  },
  {
   "cell_type": "code",
   "execution_count": null,
   "id": "2379fe85",
   "metadata": {},
   "outputs": [],
   "source": []
  }
 ],
 "metadata": {
  "kernelspec": {
   "display_name": "Python 3 (ipykernel)",
   "language": "python",
   "name": "python3"
  },
  "language_info": {
   "codemirror_mode": {
    "name": "ipython",
    "version": 3
   },
   "file_extension": ".py",
   "mimetype": "text/x-python",
   "name": "python",
   "nbconvert_exporter": "python",
   "pygments_lexer": "ipython3",
   "version": "3.9.13"
  }
 },
 "nbformat": 4,
 "nbformat_minor": 5
}
